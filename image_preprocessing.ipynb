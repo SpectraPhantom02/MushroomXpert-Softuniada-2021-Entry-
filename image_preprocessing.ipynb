{
 "cells": [
  {
   "cell_type": "markdown",
   "id": "finished-steal",
   "metadata": {},
   "source": [
    "## Image Augmentation for the VGG19 model"
   ]
  },
  {
   "cell_type": "code",
   "execution_count": 1,
   "id": "known-lotus",
   "metadata": {},
   "outputs": [],
   "source": [
    "import numpy as np\n",
    "import keras, glob, os\n",
    "from PIL import Image\n",
    "import cv2\n",
    "from keras.preprocessing.image import ImageDataGenerator, array_to_img, img_to_array, load_img"
   ]
  },
  {
   "cell_type": "code",
   "execution_count": 2,
   "id": "verbal-citation",
   "metadata": {},
   "outputs": [],
   "source": [
    "MAIN = 'mushrooms_original/images'\n",
    "NEW = 'old_world_order'\n",
    "class_dirs = os.listdir(MAIN)"
   ]
  },
  {
   "cell_type": "code",
   "execution_count": 3,
   "id": "stretch-timeline",
   "metadata": {},
   "outputs": [
    {
     "name": "stdout",
     "output_type": "stream",
     "text": [
      "Class done.\n",
      "Class done.\n",
      "Class done.\n",
      "Class done.\n",
      "Class done.\n",
      "Class done.\n",
      "Class done.\n",
      "Class done.\n",
      "Class done.\n",
      "Class done.\n",
      "Class done.\n",
      "Class done.\n",
      "Class done.\n",
      "Class done.\n",
      "Class done.\n",
      "Class done.\n",
      "Class done.\n",
      "Class done.\n",
      "Class done.\n",
      "Class done.\n",
      "Class done.\n",
      "Class done.\n",
      "Class done.\n",
      "Class done.\n",
      "Class done.\n",
      "Class done.\n",
      "Class done.\n",
      "Class done.\n",
      "Class done.\n",
      "Class done.\n",
      "Class done.\n",
      "Class done.\n",
      "Class done.\n",
      "Class done.\n",
      "Class done.\n",
      "Class done.\n",
      "Class done.\n",
      "Class done.\n",
      "Class done.\n"
     ]
    },
    {
     "name": "stderr",
     "output_type": "stream",
     "text": [
      "/home/nikola/ENTER/lib/python3.8/site-packages/PIL/TiffImagePlugin.py:793: UserWarning: Corrupt EXIF data.  Expecting to read 4 bytes but only got 0. \n",
      "  warnings.warn(str(msg))\n"
     ]
    },
    {
     "name": "stdout",
     "output_type": "stream",
     "text": [
      "Class done.\n",
      "Class done.\n",
      "Class done.\n",
      "Class done.\n",
      "Class done.\n",
      "Class done.\n",
      "Class done.\n",
      "Class done.\n",
      "Class done.\n",
      "Class done.\n",
      "Class done.\n",
      "Class done.\n",
      "Class done.\n",
      "Class done.\n",
      "Class done.\n",
      "Class done.\n",
      "Class done.\n",
      "Class done.\n",
      "Class done.\n",
      "Class done.\n",
      "Class done.\n",
      "Class done.\n",
      "Class done.\n",
      "Class done.\n",
      "Class done.\n",
      "Class done.\n",
      "Class done.\n",
      "Class done.\n",
      "Class done.\n",
      "Class done.\n",
      "Class done.\n",
      "Class done.\n",
      "Class done.\n",
      "Class done.\n",
      "Class done.\n",
      "Class done.\n",
      "Class done.\n",
      "Class done.\n",
      "Class done.\n",
      "Class done.\n",
      "Class done.\n",
      "Class done.\n",
      "Class done.\n",
      "Class done.\n",
      "Class done.\n",
      "Class done.\n",
      "Class done.\n",
      "Class done.\n",
      "Class done.\n",
      "Class done.\n",
      "Class done.\n",
      "Class done.\n",
      "Class done.\n",
      "Class done.\n",
      "Class done.\n",
      "Class done.\n",
      "Class done.\n",
      "Class done.\n",
      "Class done.\n",
      "Class done.\n",
      "Class done.\n",
      "Class done.\n",
      "Class done.\n",
      "Class done.\n",
      "Class done.\n",
      "Class done.\n",
      "Class done.\n",
      "Class done.\n",
      "Class done.\n",
      "Class done.\n",
      "Class done.\n",
      "Class done.\n",
      "Class done.\n",
      "Class done.\n"
     ]
    }
   ],
   "source": [
    "datagen = ImageDataGenerator(rotation_range = 40, shear_range = 0.2, zoom_range = 0.2)\n",
    "\n",
    "for class_dir in class_dirs:\n",
    "    class_name = class_dir[6:]\n",
    "    class_path = os.path.join(MAIN, class_dir)\n",
    "    new_class_path = os.path.join(NEW, class_name)\n",
    "    files_count = len(os.listdir(class_path))\n",
    "    if files_count < 150:\n",
    "        continue\n",
    "    if not os.path.exists(new_class_path):\n",
    "        os.makedirs(new_class_path)\n",
    "        \n",
    "    filenames = os.listdir(class_path)\n",
    "    for file in filenames:\n",
    "        x = Image.open(os.path.join(class_path, file))\n",
    "        new_shape = (224, 224)\n",
    "        rimg = np.array(x.resize(size = new_shape))\n",
    "        \n",
    "        # Reshape the input image \n",
    "        rimg = rimg.reshape((1, ) + rimg.shape)  \n",
    "        i = 0\n",
    "\n",
    "        aug_index = 1200 // files_count + 1\n",
    "        # generate new augmented images \n",
    "        for batch in datagen.flow(rimg, batch_size = 1, \n",
    "                          save_to_dir = new_class_path,  \n",
    "                          save_prefix = '', save_format = 'jpeg'):\n",
    "            i += 1\n",
    "            if i > aug_index: \n",
    "                break\n",
    "    print('Class done.')"
   ]
  },
  {
   "cell_type": "markdown",
   "id": "considerable-november",
   "metadata": {},
   "source": [
    "***New images created and saved.***"
   ]
  },
  {
   "cell_type": "code",
   "execution_count": 1,
   "id": "cultural-retention",
   "metadata": {},
   "outputs": [
    {
     "name": "stdout",
     "output_type": "stream",
     "text": [
      "{0: 'Agaricus_arvensis', 1: 'Agaricus_impudicus', 2: 'Agrocybe_praecox', 3: 'Amanita_excelsa', 4: 'Amanita_fulva', 5: 'Amanita_muscaria', 6: 'Amanita_rubescens', 7: 'Armillaria_lutea', 8: 'Armillaria_ostoyae', 9: 'Auricularia_auricula-judae', 10: 'Basidioradulum_radula', 11: 'Bjerkandera_adusta', 12: 'Bolbitius_titubans', 13: 'Boletus_edulis', 14: 'Byssomerulius_corium', 15: 'Cerioporus_squamosus', 16: 'Cerioporus_varius', 17: 'Chlorophyllum_olivieri', 18: 'Chondrostereum_purpureum', 19: 'Clavulina_coralloides', 20: 'Clitopilus_prunulus', 21: 'Coprinellus_micaceus', 22: 'Coprinopsis_lagopus', 23: 'Cortinarius_alboviolaceus', 24: 'Cortinarius_anserinus', 25: 'Cortinarius_elatior', 26: 'Cortinarius_flexipes', 27: 'Cortinarius_largus', 28: 'Cortinarius_malicorius', 29: 'Cortinarius_torvus', 30: 'Craterellus_undulatus', 31: 'Crepidotus_cesatii', 32: 'Cuphophyllus_virgineus', 33: 'Cylindrobasidium_laeve', 34: 'Cystoderma_amianthinum', 35: 'Dacrymyces_stillatus', 36: 'Daedalea_quercina', 37: 'Daedaleopsis_confragosa', 38: 'Datronia_mollis', 39: 'Entoloma_clypeatum', 40: 'Fistulina_hepatica', 41: 'Flammulina_velutipes var. velutipes', 42: 'Fomes_fomentarius', 43: 'Fomitopsis_pinicola', 44: 'Fuscoporia_ferrea', 45: 'Galerina_marginata', 46: 'Ganoderma_applanatum', 47: 'Ganoderma_pfeifferi', 48: 'Gliophorus_psittacinus', 49: 'Gloeophyllum_sepiarium', 50: 'Gymnopus_dryophilus', 51: 'Hericium_coralloides', 52: 'Heterobasidion_annosum', 53: 'Hygrocybe_cantharellus', 54: 'Hygrocybe_ceracea', 55: 'Hygrocybe_conica', 56: 'Hygrocybe_miniata', 57: 'Hygrophorus_pustulatus', 58: 'Hymenopellis_radicata', 59: 'Hypholoma_fasciculare', 60: 'Ischnoderma_resinosum', 61: 'Kuehneromyces_mutabilis', 62: 'Laccaria_laccata', 63: 'Laccaria_proxima', 64: 'Lacrymaria_lacrymabunda', 65: 'Laetiporus_sulphureus', 66: 'Leccinum_scabrum', 67: 'Lycoperdon_perlatum', 68: 'Meripilus_giganteus', 69: 'Mucidula_mucida', 70: 'Mycena_galericulata', 71: 'Mycena_haematopus', 72: 'Mycena_pura', 73: 'Mycena_speirea', 74: 'Mycena_tintinnabulum', 75: 'Oligoporus_guttulatus', 76: 'Peniophora_incarnata', 77: 'Peniophora_quercina', 78: 'Phaeolus_schweinitzii', 79: 'Phellinus_pomaceus', 80: 'Phlebia_radiata', 81: 'Pholiota_squarrosa', 82: 'Pleurotus_ostreatus', 83: 'Plicatura_crispa', 84: 'Pluteus_cervinus', 85: 'Polyporus_tuberaster', 86: 'Protostropharia_semiglobata', 87: 'Psathyrella_candolleana', 88: 'Psathyrella_spadiceogrisea', 89: 'Pycnoporellus_fulgens', 90: 'Radulomyces_confluens', 91: 'Ramaria_stricta', 92: 'Russula_depallens', 93: 'Schizophyllum_commune', 94: 'Steccherinum_ochraceum', 95: 'Stereum_hirsutum', 96: 'Stropharia_cyanea', 97: 'Suillellus_luridus', 98: 'Suillus_granulatus', 99: 'Sutorius_luridiformis', 100: 'Trametes_gibbosa', 101: 'Trametes_hirsuta', 102: 'Trametes_versicolor', 103: 'Tremella_mesenterica', 104: 'Tricholoma_scalpturatum', 105: 'Tricholoma_terreum', 106: 'Tubaria_furfuracea', 107: 'Vuilleminia_comedens', 108: 'Xerocomellus_chrysenteron', 109: 'Xerocomellus_pruinatus', 110: 'Xerocomus_ferrugineus', 111: 'Xylodon_paradoxus', 112: 'Xylodon_raduloides'}\n"
     ]
    }
   ],
   "source": [
    "import os\n",
    "import json\n",
    "\n",
    "dirs = os.listdir('old_world_order')\n",
    "dirs.sort()\n",
    "indices = [i for i in range(0, 113)]\n",
    "res = {indices[i]: dirs[i] for i in range(len(dirs))}\n",
    "\n",
    "print(res)"
   ]
  },
  {
   "cell_type": "code",
   "execution_count": 2,
   "id": "entire-setup",
   "metadata": {},
   "outputs": [],
   "source": [
    "with open('class.json', 'w') as fp:\n",
    "    json.dump(res, fp)"
   ]
  },
  {
   "cell_type": "code",
   "execution_count": null,
   "id": "impressed-giant",
   "metadata": {},
   "outputs": [],
   "source": []
  }
 ],
 "metadata": {
  "kernelspec": {
   "display_name": "Python 3",
   "language": "python",
   "name": "python3"
  },
  "language_info": {
   "codemirror_mode": {
    "name": "ipython",
    "version": 3
   },
   "file_extension": ".py",
   "mimetype": "text/x-python",
   "name": "python",
   "nbconvert_exporter": "python",
   "pygments_lexer": "ipython3",
   "version": "3.8.8"
  }
 },
 "nbformat": 4,
 "nbformat_minor": 5
}
