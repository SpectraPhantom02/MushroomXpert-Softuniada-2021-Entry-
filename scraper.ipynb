{
 "cells": [
  {
   "cell_type": "code",
   "execution_count": null,
   "id": "saved-liverpool",
   "metadata": {},
   "outputs": [],
   "source": [
    "# Imports Packages\n",
    "from selenium import webdriver\n",
    "from selenium.webdriver.common.keys import Keys\n",
    "import json\n",
    "import os\n",
    "\n",
    "file = open('class.json')\n",
    "mushrooms = json.load(file)\n",
    "file.close()\n",
    "for name in mushrooms.values():\n",
    "    p = os.path.join('testing', name)\n",
    "    os.mkdir(p)\n",
    "    # Opens up web driver and goes to Google Images\n",
    "    driver = webdriver.Chrome('./chromedriver')\n",
    "    driver.get('https://www.google.ca/imghp?hl=en&tab=ri&authuser=0&ogbl')\n",
    "\n",
    "    search_box = driver.find_element_by_xpath('//*[@id=\"sbtc\"]/div/div[2]/input')\n",
    "\n",
    "    search_box.send_keys(' '.join(name.split('_')))\n",
    "    search_box.send_keys(Keys.ENTER)\n",
    "\n",
    "    for i in range(1, 11):\n",
    "        try:\n",
    "            driver.find_element_by_xpath(f'//*[@id=\"islrg\"]/div[1]/div[{i}]/a[1]/div[1]/img').screenshot(f'testing/{name}/({i}).png')\n",
    "        except:\n",
    "            pass\n"
   ]
  },
  {
   "cell_type": "code",
   "execution_count": null,
   "id": "grand-panama",
   "metadata": {},
   "outputs": [],
   "source": []
  }
 ],
 "metadata": {
  "kernelspec": {
   "display_name": "Python 3",
   "language": "python",
   "name": "python3"
  },
  "language_info": {
   "codemirror_mode": {
    "name": "ipython",
    "version": 3
   },
   "file_extension": ".py",
   "mimetype": "text/x-python",
   "name": "python",
   "nbconvert_exporter": "python",
   "pygments_lexer": "ipython3",
   "version": "3.8.8"
  }
 },
 "nbformat": 4,
 "nbformat_minor": 5
}
