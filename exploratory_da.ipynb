{
 "cells": [
  {
   "cell_type": "markdown",
   "id": "cardiovascular-consolidation",
   "metadata": {},
   "source": [
    "## Exploration of the images in the training dataset"
   ]
  },
  {
   "cell_type": "code",
   "execution_count": 11,
   "id": "nasty-posting",
   "metadata": {},
   "outputs": [
    {
     "data": {
      "text/html": [
       "1394"
      ],
      "text/latex": [
       "1394"
      ],
      "text/markdown": [
       "1394"
      ],
      "text/plain": [
       "[1] 1394"
      ]
     },
     "metadata": {},
     "output_type": "display_data"
    }
   ],
   "source": [
    "BASE <- 'fungi_train_val/images'\n",
    "\n",
    "list_of_folders <- list.files(path = BASE)\n",
    "length(list_of_folders)"
   ]
  },
  {
   "cell_type": "code",
   "execution_count": 12,
   "id": "lyric-tulsa",
   "metadata": {},
   "outputs": [
    {
     "data": {
      "text/html": [
       "<ol class=list-inline>\n",
       "\t<li>'10000_Abortiporus_biennis'</li>\n",
       "\t<li>'10025_Achroomyces_disciformis'</li>\n",
       "\t<li>'10052_Agaricus_altipes'</li>\n",
       "\t<li>'10056_Agaricus_arvensis'</li>\n",
       "\t<li>'10057_Agaricus_augustus'</li>\n",
       "\t<li>'10059_Agaricus_bernardii'</li>\n",
       "</ol>\n"
      ],
      "text/latex": [
       "\\begin{enumerate*}\n",
       "\\item '10000\\_Abortiporus\\_biennis'\n",
       "\\item '10025\\_Achroomyces\\_disciformis'\n",
       "\\item '10052\\_Agaricus\\_altipes'\n",
       "\\item '10056\\_Agaricus\\_arvensis'\n",
       "\\item '10057\\_Agaricus\\_augustus'\n",
       "\\item '10059\\_Agaricus\\_bernardii'\n",
       "\\end{enumerate*}\n"
      ],
      "text/markdown": [
       "1. '10000_Abortiporus_biennis'\n",
       "2. '10025_Achroomyces_disciformis'\n",
       "3. '10052_Agaricus_altipes'\n",
       "4. '10056_Agaricus_arvensis'\n",
       "5. '10057_Agaricus_augustus'\n",
       "6. '10059_Agaricus_bernardii'\n",
       "\n",
       "\n"
      ],
      "text/plain": [
       "[1] \"10000_Abortiporus_biennis\"     \"10025_Achroomyces_disciformis\"\n",
       "[3] \"10052_Agaricus_altipes\"        \"10056_Agaricus_arvensis\"      \n",
       "[5] \"10057_Agaricus_augustus\"       \"10059_Agaricus_bernardii\"     "
      ]
     },
     "metadata": {},
     "output_type": "display_data"
    }
   ],
   "source": [
    "head(list_of_folders)"
   ]
  },
  {
   "cell_type": "code",
   "execution_count": 16,
   "id": "bronze-hampton",
   "metadata": {},
   "outputs": [
    {
     "data": {
      "text/html": [
       "<ol class=list-inline>\n",
       "\t<li>'67672_Xylodon_flaviporus (Berk. &amp; M.A. Curtis) Riebesehl &amp; E. Langer'</li>\n",
       "\t<li>'67678_Xylodon_nespori'</li>\n",
       "\t<li>'67679_Xylodon_paradoxus'</li>\n",
       "\t<li>'67681_Xylodon_raduloides'</li>\n",
       "\t<li>'67753_Aureoboletus_projectellus'</li>\n",
       "\t<li>'67758_Ombrophila_pura'</li>\n",
       "</ol>\n"
      ],
      "text/latex": [
       "\\begin{enumerate*}\n",
       "\\item '67672\\_Xylodon\\_flaviporus (Berk. \\& M.A. Curtis) Riebesehl \\& E. Langer'\n",
       "\\item '67678\\_Xylodon\\_nespori'\n",
       "\\item '67679\\_Xylodon\\_paradoxus'\n",
       "\\item '67681\\_Xylodon\\_raduloides'\n",
       "\\item '67753\\_Aureoboletus\\_projectellus'\n",
       "\\item '67758\\_Ombrophila\\_pura'\n",
       "\\end{enumerate*}\n"
      ],
      "text/markdown": [
       "1. '67672_Xylodon_flaviporus (Berk. &amp; M.A. Curtis) Riebesehl &amp; E. Langer'\n",
       "2. '67678_Xylodon_nespori'\n",
       "3. '67679_Xylodon_paradoxus'\n",
       "4. '67681_Xylodon_raduloides'\n",
       "5. '67753_Aureoboletus_projectellus'\n",
       "6. '67758_Ombrophila_pura'\n",
       "\n",
       "\n"
      ],
      "text/plain": [
       "[1] \"67672_Xylodon_flaviporus (Berk. & M.A. Curtis) Riebesehl & E. Langer\"\n",
       "[2] \"67678_Xylodon_nespori\"                                               \n",
       "[3] \"67679_Xylodon_paradoxus\"                                             \n",
       "[4] \"67681_Xylodon_raduloides\"                                            \n",
       "[5] \"67753_Aureoboletus_projectellus\"                                     \n",
       "[6] \"67758_Ombrophila_pura\"                                               "
      ]
     },
     "metadata": {},
     "output_type": "display_data"
    }
   ],
   "source": [
    "tail(list_of_folders)"
   ]
  },
  {
   "cell_type": "markdown",
   "id": "portuguese-violation",
   "metadata": {},
   "source": [
    "***It appears as if all folder names start with a 5-digit ID, followed by an underscore and then the Latin name of the species.***"
   ]
  },
  {
   "cell_type": "code",
   "execution_count": 29,
   "id": "entertaining-scale",
   "metadata": {},
   "outputs": [],
   "source": [
    "folder_counts <- vector(mode = 'numeric', length = length(list_of_folders))\n",
    "species_names <- vector(mode = 'character', length = length(list_of_folders))\n",
    "index <- 1\n",
    "\n",
    "for(folder in list_of_folders) {\n",
    "    images_path <- gsub(' ', '', paste(BASE, '/', folder))\n",
    "    folder_counts[index] <- length(list.files(path = images_path))\n",
    "    name <- substr(folder, start = 7, stop = nchar(folder))\n",
    "    species_names[index] <- name \n",
    "    index <- index + 1  \n",
    "}"
   ]
  },
  {
   "cell_type": "code",
   "execution_count": 30,
   "id": "departmental-amount",
   "metadata": {},
   "outputs": [
    {
     "data": {
      "text/html": [
       "<ol class=list-inline>\n",
       "\t<li>74</li>\n",
       "\t<li>27</li>\n",
       "\t<li>20</li>\n",
       "\t<li>228</li>\n",
       "\t<li>128</li>\n",
       "\t<li>36</li>\n",
       "</ol>\n"
      ],
      "text/latex": [
       "\\begin{enumerate*}\n",
       "\\item 74\n",
       "\\item 27\n",
       "\\item 20\n",
       "\\item 228\n",
       "\\item 128\n",
       "\\item 36\n",
       "\\end{enumerate*}\n"
      ],
      "text/markdown": [
       "1. 74\n",
       "2. 27\n",
       "3. 20\n",
       "4. 228\n",
       "5. 128\n",
       "6. 36\n",
       "\n",
       "\n"
      ],
      "text/plain": [
       "[1]  74  27  20 228 128  36"
      ]
     },
     "metadata": {},
     "output_type": "display_data"
    }
   ],
   "source": [
    "head(folder_counts)"
   ]
  },
  {
   "cell_type": "code",
   "execution_count": 31,
   "id": "middle-original",
   "metadata": {},
   "outputs": [
    {
     "data": {
      "text/html": [
       "<ol class=list-inline>\n",
       "\t<li>'Abortiporus_biennis'</li>\n",
       "\t<li>'Achroomyces_disciformis'</li>\n",
       "\t<li>'Agaricus_altipes'</li>\n",
       "\t<li>'Agaricus_arvensis'</li>\n",
       "\t<li>'Agaricus_augustus'</li>\n",
       "\t<li>'Agaricus_bernardii'</li>\n",
       "</ol>\n"
      ],
      "text/latex": [
       "\\begin{enumerate*}\n",
       "\\item 'Abortiporus\\_biennis'\n",
       "\\item 'Achroomyces\\_disciformis'\n",
       "\\item 'Agaricus\\_altipes'\n",
       "\\item 'Agaricus\\_arvensis'\n",
       "\\item 'Agaricus\\_augustus'\n",
       "\\item 'Agaricus\\_bernardii'\n",
       "\\end{enumerate*}\n"
      ],
      "text/markdown": [
       "1. 'Abortiporus_biennis'\n",
       "2. 'Achroomyces_disciformis'\n",
       "3. 'Agaricus_altipes'\n",
       "4. 'Agaricus_arvensis'\n",
       "5. 'Agaricus_augustus'\n",
       "6. 'Agaricus_bernardii'\n",
       "\n",
       "\n"
      ],
      "text/plain": [
       "[1] \"Abortiporus_biennis\"     \"Achroomyces_disciformis\"\n",
       "[3] \"Agaricus_altipes\"        \"Agaricus_arvensis\"      \n",
       "[5] \"Agaricus_augustus\"       \"Agaricus_bernardii\"     "
      ]
     },
     "metadata": {},
     "output_type": "display_data"
    }
   ],
   "source": [
    "head(species_names)"
   ]
  },
  {
   "cell_type": "code",
   "execution_count": 32,
   "id": "smooth-ceiling",
   "metadata": {},
   "outputs": [
    {
     "data": {
      "text/html": [
       "<table>\n",
       "<thead><tr><th scope=col>species</th><th scope=col>samples_count</th></tr></thead>\n",
       "<tbody>\n",
       "\t<tr><td>Abortiporus_biennis    </td><td> 74                    </td></tr>\n",
       "\t<tr><td>Achroomyces_disciformis</td><td> 27                    </td></tr>\n",
       "\t<tr><td>Agaricus_altipes       </td><td> 20                    </td></tr>\n",
       "\t<tr><td>Agaricus_arvensis      </td><td>228                    </td></tr>\n",
       "\t<tr><td>Agaricus_augustus      </td><td>128                    </td></tr>\n",
       "\t<tr><td>Agaricus_bernardii     </td><td> 36                    </td></tr>\n",
       "</tbody>\n",
       "</table>\n"
      ],
      "text/latex": [
       "\\begin{tabular}{r|ll}\n",
       " species & samples\\_count\\\\\n",
       "\\hline\n",
       "\t Abortiporus\\_biennis     &  74                      \\\\\n",
       "\t Achroomyces\\_disciformis &  27                      \\\\\n",
       "\t Agaricus\\_altipes        &  20                      \\\\\n",
       "\t Agaricus\\_arvensis       & 228                      \\\\\n",
       "\t Agaricus\\_augustus       & 128                      \\\\\n",
       "\t Agaricus\\_bernardii      &  36                      \\\\\n",
       "\\end{tabular}\n"
      ],
      "text/markdown": [
       "\n",
       "| species | samples_count |\n",
       "|---|---|\n",
       "| Abortiporus_biennis     |  74                     |\n",
       "| Achroomyces_disciformis |  27                     |\n",
       "| Agaricus_altipes        |  20                     |\n",
       "| Agaricus_arvensis       | 228                     |\n",
       "| Agaricus_augustus       | 128                     |\n",
       "| Agaricus_bernardii      |  36                     |\n",
       "\n"
      ],
      "text/plain": [
       "  species                 samples_count\n",
       "1 Abortiporus_biennis      74          \n",
       "2 Achroomyces_disciformis  27          \n",
       "3 Agaricus_altipes         20          \n",
       "4 Agaricus_arvensis       228          \n",
       "5 Agaricus_augustus       128          \n",
       "6 Agaricus_bernardii       36          "
      ]
     },
     "metadata": {},
     "output_type": "display_data"
    }
   ],
   "source": [
    "class_info <- data.frame(species = species_names, samples_count = folder_counts)\n",
    "head(class_info)"
   ]
  },
  {
   "cell_type": "code",
   "execution_count": 36,
   "id": "united-sandwich",
   "metadata": {},
   "outputs": [
    {
     "data": {
      "text/html": [
       "<table>\n",
       "<thead><tr><th></th><th scope=col>species</th><th scope=col>samples_count</th></tr></thead>\n",
       "<tbody>\n",
       "\t<tr><th scope=row>853</th><td>Plicatura_crispa         </td><td>442                      </td></tr>\n",
       "\t<tr><th scope=row>855</th><td>Pluteus_cervinus         </td><td>419                      </td></tr>\n",
       "\t<tr><th scope=row>1104</th><td>Tricholoma_scalpturatum  </td><td>414                      </td></tr>\n",
       "\t<tr><th scope=row>87</th><td>Xerocomellus_chrysenteron</td><td>406                      </td></tr>\n",
       "\t<tr><th scope=row>733</th><td>Mycena_galericulata      </td><td>375                      </td></tr>\n",
       "\t<tr><th scope=row>1159</th><td>Byssomerulius_corium     </td><td>374                      </td></tr>\n",
       "</tbody>\n",
       "</table>\n"
      ],
      "text/latex": [
       "\\begin{tabular}{r|ll}\n",
       "  & species & samples\\_count\\\\\n",
       "\\hline\n",
       "\t853 & Plicatura\\_crispa          & 442                        \\\\\n",
       "\t855 & Pluteus\\_cervinus          & 419                        \\\\\n",
       "\t1104 & Tricholoma\\_scalpturatum   & 414                        \\\\\n",
       "\t87 & Xerocomellus\\_chrysenteron & 406                        \\\\\n",
       "\t733 & Mycena\\_galericulata       & 375                        \\\\\n",
       "\t1159 & Byssomerulius\\_corium      & 374                        \\\\\n",
       "\\end{tabular}\n"
      ],
      "text/markdown": [
       "\n",
       "| <!--/--> | species | samples_count |\n",
       "|---|---|---|\n",
       "| 853 | Plicatura_crispa          | 442                       |\n",
       "| 855 | Pluteus_cervinus          | 419                       |\n",
       "| 1104 | Tricholoma_scalpturatum   | 414                       |\n",
       "| 87 | Xerocomellus_chrysenteron | 406                       |\n",
       "| 733 | Mycena_galericulata       | 375                       |\n",
       "| 1159 | Byssomerulius_corium      | 374                       |\n",
       "\n"
      ],
      "text/plain": [
       "     species                   samples_count\n",
       "853  Plicatura_crispa          442          \n",
       "855  Pluteus_cervinus          419          \n",
       "1104 Tricholoma_scalpturatum   414          \n",
       "87   Xerocomellus_chrysenteron 406          \n",
       "733  Mycena_galericulata       375          \n",
       "1159 Byssomerulius_corium      374          "
      ]
     },
     "metadata": {},
     "output_type": "display_data"
    }
   ],
   "source": [
    "sorted_class_info <- class_info[order(-class_info$samples_count), ]\n",
    "head(sorted_class_info)"
   ]
  },
  {
   "cell_type": "code",
   "execution_count": 38,
   "id": "acting-amazon",
   "metadata": {},
   "outputs": [
    {
     "data": {
      "image/png": "[encoded data removed]",
      "text/plain": [
       "plot without title"
      ]
     },
     "metadata": {},
     "output_type": "display_data"
    }
   ],
   "source": [
    "barplot(sorted_class_info$samples_count, xlab = 'Species',\n",
    "        ylab = 'N of Samples', col = 'purple',\n",
    "        border = 'purple')"
   ]
  },
  {
   "cell_type": "code",
   "execution_count": 49,
   "id": "juvenile-casting",
   "metadata": {},
   "outputs": [
    {
     "data": {
      "text/html": [
       "<ol class=list-inline>\n",
       "\t<li>191</li>\n",
       "\t<li>2</li>\n",
       "</ol>\n"
      ],
      "text/latex": [
       "\\begin{enumerate*}\n",
       "\\item 191\n",
       "\\item 2\n",
       "\\end{enumerate*}\n"
      ],
      "text/markdown": [
       "1. 191\n",
       "2. 2\n",
       "\n",
       "\n"
      ],
      "text/plain": [
       "[1] 191   2"
      ]
     },
     "metadata": {},
     "output_type": "display_data"
    }
   ],
   "source": [
    "class_labels <- sorted_class_info[sorted_class_info$samples_count >= 125, ]\n",
    "dim(class_labels)"
   ]
  },
  {
   "cell_type": "code",
   "execution_count": null,
   "id": "acceptable-wayne",
   "metadata": {},
   "outputs": [],
   "source": []
  }
 ],
 "metadata": {
  "kernelspec": {
   "display_name": "R",
   "language": "R",
   "name": "ir"
  },
  "language_info": {
   "codemirror_mode": "r",
   "file_extension": ".r",
   "mimetype": "text/x-r-source",
   "name": "R",
   "pygments_lexer": "r",
   "version": "3.6.1"
  }
 },
 "nbformat": 4,
 "nbformat_minor": 5
}
