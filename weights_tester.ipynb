{
 "cells": [
  {
   "cell_type": "code",
   "execution_count": 1,
   "id": "substantial-assembly",
   "metadata": {},
   "outputs": [],
   "source": [
    "import numpy as np\n",
    "from skimage import transform\n",
    "from PIL import Image\n",
    "import os\n",
    "\n",
    "from keras import applications\n",
    "from keras.models import  Model\n",
    "from keras.layers import Input, Dense, BatchNormalization, MaxPooling2D, Dropout, Flatten"
   ]
  },
  {
   "cell_type": "code",
   "execution_count": 2,
   "id": "collect-batman",
   "metadata": {},
   "outputs": [],
   "source": [
    "class ImagePrediction():\n",
    "    \n",
    "    IMG_WIDTH = 224\n",
    "    IMG_HEIGHT = 224\n",
    "    COLORS = 3\n",
    "    POOLING_DROPOUT_RATE = 0.2\n",
    "    FC_DROPOUT_RATE = 0.3\n",
    "    NUMBER_OF_CLASSES = 113\n",
    "    FC1_NEURONS = 1024\n",
    "    FC2_NEURONS = 1024\n",
    "    FC3_NEURONS = 512\n",
    "    WEIGHTS_PATH = 'weights/AAAAA.hdf5'\n",
    "\n",
    "    def __init__(self):\n",
    "        pass\n",
    "\n",
    "    # Function to load the model\n",
    "\n",
    "    def model_load(self):\n",
    "        \n",
    "        vgg_model = applications.VGG19(weights = None,\n",
    "                                       include_top = False,\n",
    "                                       input_shape = (self.IMG_WIDTH, self.IMG_HEIGHT, self.COLORS))\n",
    "        \n",
    "        for layer in vgg_model.layers[:-5]:\n",
    "            layer.trainable = False\n",
    "            \n",
    "        for layer in vgg_model.layers[1:4]:\n",
    "            layer.trainable = True\n",
    "            \n",
    "        inputs = Input(shape = (self.IMG_WIDTH, self.IMG_HEIGHT, self.COLORS), name = 'image_input')\n",
    "        output_vgg16_conv = vgg_model(inputs)\n",
    "        \n",
    "        x = BatchNormalization()(output_vgg16_conv)\n",
    "        x = MaxPooling2D(pool_size = (2, 2), padding = 'same')(x)\n",
    "        x = Dropout(self.POOLING_DROPOUT_RATE)(x)\n",
    "        \n",
    "        x = Flatten()(x)\n",
    "        x = Dense(self.FC1_NEURONS, activation = 'relu')(x)\n",
    "        x = BatchNormalization()(x)\n",
    "        x = Dropout(self.FC_DROPOUT_RATE)(x)\n",
    "        \n",
    "        x = Dense(self.FC2_NEURONS, activation = 'relu')(x)\n",
    "        x = BatchNormalization()(x)\n",
    "        x = Dropout(self.FC_DROPOUT_RATE)(x)\n",
    "        \n",
    "        x = Dense(self.FC3_NEURONS, activation = 'relu')(x)\n",
    "        x = BatchNormalization()(x)\n",
    "        x = Dropout(self.FC_DROPOUT_RATE)(x)\n",
    "        \n",
    "        x = Dense(self.NUMBER_OF_CLASSES, activation = 'softmax')(x)\n",
    "        \n",
    "        model = Model(inputs = inputs, outputs = x)\n",
    "        \n",
    "        model.summary()\n",
    "        \n",
    "        try:\n",
    "            model.load_weights(self.WEIGHTS_PATH)\n",
    "        except FileNotFoundError:\n",
    "            print('Weights not found, model is loaded empty.')\n",
    "        \n",
    "        return model\n",
    "    \n",
    "    \n",
    "    # Function to feed a single image\n",
    "    \n",
    "    def feed_image(self, file_path: str, model: Model):\n",
    "        \n",
    "        np_image = Image.open(file_path)\n",
    "        np_image = np.array(np_image).astype('float32') / 255\n",
    "        np_image = transform.resize(np_image, (self.IMG_WIDTH, self.IMG_HEIGHT, self.COLORS))\n",
    "        np_image = np.expand_dims(np_image, axis = 0)\n",
    "        \n",
    "        pred = model.predict(np_image)\n",
    "        indice = np.argmax(pred, axis = -1)\n",
    "    \n",
    "        return indice"
   ]
  },
  {
   "cell_type": "code",
   "execution_count": 3,
   "id": "artistic-responsibility",
   "metadata": {},
   "outputs": [
    {
     "name": "stdout",
     "output_type": "stream",
     "text": [
      "Model: \"model\"\n",
      "_________________________________________________________________\n",
      "Layer (type)                 Output Shape              Param #   \n",
      "=================================================================\n",
      "image_input (InputLayer)     [(None, 224, 224, 3)]     0         \n",
      "_________________________________________________________________\n",
      "vgg19 (Functional)           (None, 7, 7, 512)         20024384  \n",
      "_________________________________________________________________\n",
      "batch_normalization (BatchNo (None, 7, 7, 512)         2048      \n",
      "_________________________________________________________________\n",
      "max_pooling2d (MaxPooling2D) (None, 4, 4, 512)         0         \n",
      "_________________________________________________________________\n",
      "dropout (Dropout)            (None, 4, 4, 512)         0         \n",
      "_________________________________________________________________\n",
      "flatten (Flatten)            (None, 8192)              0         \n",
      "_________________________________________________________________\n",
      "dense (Dense)                (None, 1024)              8389632   \n",
      "_________________________________________________________________\n",
      "batch_normalization_1 (Batch (None, 1024)              4096      \n",
      "_________________________________________________________________\n",
      "dropout_1 (Dropout)          (None, 1024)              0         \n",
      "_________________________________________________________________\n",
      "dense_1 (Dense)              (None, 1024)              1049600   \n",
      "_________________________________________________________________\n",
      "batch_normalization_2 (Batch (None, 1024)              4096      \n",
      "_________________________________________________________________\n",
      "dropout_2 (Dropout)          (None, 1024)              0         \n",
      "_________________________________________________________________\n",
      "dense_2 (Dense)              (None, 512)               524800    \n",
      "_________________________________________________________________\n",
      "batch_normalization_3 (Batch (None, 512)               2048      \n",
      "_________________________________________________________________\n",
      "dropout_3 (Dropout)          (None, 512)               0         \n",
      "_________________________________________________________________\n",
      "dense_3 (Dense)              (None, 113)               57969     \n",
      "=================================================================\n",
      "Total params: 30,058,673\n",
      "Trainable params: 19,506,097\n",
      "Non-trainable params: 10,552,576\n",
      "_________________________________________________________________\n"
     ]
    }
   ],
   "source": [
    "pred = ImagePrediction()\n",
    "model = pred.model_load()"
   ]
  },
  {
   "cell_type": "code",
   "execution_count": 27,
   "id": "descending-opinion",
   "metadata": {},
   "outputs": [
    {
     "name": "stdout",
     "output_type": "stream",
     "text": [
      "[44]\n"
     ]
    }
   ],
   "source": [
    "index = pred.feed_image('single/pom.jpeg', model)\n",
    "print(index)"
   ]
  },
  {
   "cell_type": "code",
   "execution_count": null,
   "id": "magnetic-gilbert",
   "metadata": {},
   "outputs": [],
   "source": []
  }
 ],
 "metadata": {
  "kernelspec": {
   "display_name": "Python 3",
   "language": "python",
   "name": "python3"
  },
  "language_info": {
   "codemirror_mode": {
    "name": "ipython",
    "version": 3
   },
   "file_extension": ".py",
   "mimetype": "text/x-python",
   "name": "python",
   "nbconvert_exporter": "python",
   "pygments_lexer": "ipython3",
   "version": "3.8.8"
  }
 },
 "nbformat": 4,
 "nbformat_minor": 5
}
